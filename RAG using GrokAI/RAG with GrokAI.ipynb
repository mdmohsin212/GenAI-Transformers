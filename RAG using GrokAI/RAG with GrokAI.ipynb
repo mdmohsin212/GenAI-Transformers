{
 "cells": [
  {
   "cell_type": "code",
   "execution_count": null,
   "id": "fba3f8b9",
   "metadata": {},
   "outputs": [],
   "source": [
    "from langchain_xai import ChatXAI\n",
    "from langchain.vectorstores import FAISS\n",
    "from langchain.embeddings import HuggingFaceEmbeddings\n",
    "from langchain.text_splitter import RecursiveCharacterTextSplitter\n",
    "from langchain.document_loaders import PyPDFLoader"
   ]
  },
  {
   "cell_type": "code",
   "execution_count": null,
   "id": "7e89dcff",
   "metadata": {},
   "outputs": [],
   "source": [
    "pdf_reder = PyPDFLoader('RAGPaper.pdf')\n",
    "document = pdf_reder.load()"
   ]
  },
  {
   "cell_type": "code",
   "execution_count": null,
   "id": "c3c521dd",
   "metadata": {},
   "outputs": [],
   "source": [
    "text_spliter = RecursiveCharacterTextSplitter(chunk_size=1000, chunk_overlap=200)\n",
    "\n",
    "chunk = text_spliter.split_documents(document)"
   ]
  },
  {
   "cell_type": "code",
   "execution_count": null,
   "id": "004ceec9",
   "metadata": {},
   "outputs": [],
   "source": [
    "embedding = HuggingFaceEmbeddings()\n",
    "db = FAISS.from_documents(documents=chunk, embedding=embedding)"
   ]
  },
  {
   "cell_type": "code",
   "execution_count": null,
   "id": "94e0edd3",
   "metadata": {},
   "outputs": [],
   "source": [
    "llm = ChatXAI(model='grok-2-latest',\n",
    "               temperature=0.02,\n",
    "               max_token=None,\n",
    "               timeout=None,\n",
    "               max_retries=2,\n",
    "               api_key='API_KEY')"
   ]
  },
  {
   "cell_type": "code",
   "execution_count": null,
   "id": "4692ba04",
   "metadata": {},
   "outputs": [],
   "source": [
    "from langchain.chains import ConversationalRetrievalChain\n",
    "from langchain.prompts import PromptTemplate\n",
    "\n",
    "\n",
    "CONDENSE_QUESTION_PROMPT = PromptTemplate.from_template(\"\"\"Given The following conversation and a follow question, rephrase the follow up question to be a standalone question.\n",
    "Chat History : {chat_history}\n",
    "Follow up input : {question}\n",
    "standalone question:\"\"\")"
   ]
  },
  {
   "cell_type": "code",
   "execution_count": null,
   "id": "886646fa",
   "metadata": {},
   "outputs": [],
   "source": [
    "qa = ConversationalRetrievalChain.from_llm(llm=llm, retriever=db.as_retriever(), condense_question_prompt=CONDENSE_QUESTION_PROMPT, return_source_documents=True, verbose=False)"
   ]
  },
  {
   "cell_type": "code",
   "execution_count": null,
   "id": "56d9a6d1",
   "metadata": {},
   "outputs": [],
   "source": [
    "chat_history = []\n",
    "query = \"\"\"What are the different methods used in this paper?\"\"\"\n",
    "result = qa({\"question\":query, \"chat_history\":chat_history})"
   ]
  },
  {
   "cell_type": "code",
   "execution_count": null,
   "id": "0c6575df",
   "metadata": {},
   "outputs": [],
   "source": [
    "print(result['answer'])"
   ]
  }
 ],
 "metadata": {
  "language_info": {
   "name": "python"
  }
 },
 "nbformat": 4,
 "nbformat_minor": 5
}
