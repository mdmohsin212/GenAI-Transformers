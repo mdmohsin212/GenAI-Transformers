{
  "nbformat": 4,
  "nbformat_minor": 0,
  "metadata": {
    "colab": {
      "provenance": []
    },
    "kernelspec": {
      "name": "python3",
      "display_name": "Python 3"
    },
    "language_info": {
      "name": "python"
    }
  },
  "cells": [
    {
      "cell_type": "markdown",
      "source": [
        "#### Import Libraries"
      ],
      "metadata": {
        "id": "Eg8uDJvkTqrh"
      }
    },
    {
      "cell_type": "code",
      "source": [
        "import openai\n",
        "import pypdf\n",
        "from langchain.document_loaders import PyPDFLoader\n",
        "from langchain.text_splitter import RecursiveCharacterTextSplitter"
      ],
      "metadata": {
        "id": "M2KRPrOTTN2i"
      },
      "execution_count": 6,
      "outputs": []
    },
    {
      "cell_type": "code",
      "source": [
        "OPENAI_API_KEY = \"API_KEY\""
      ],
      "metadata": {
        "id": "oIl1L9on7MKq"
      },
      "execution_count": null,
      "outputs": []
    },
    {
      "cell_type": "code",
      "source": [
        "from langchain.llms import OpenAI\n",
        "\n",
        "llm = OpenAI(openai_api_key=OPENAI_API_KEY)"
      ],
      "metadata": {
        "id": "7_sXR_FlVbjX"
      },
      "execution_count": null,
      "outputs": []
    },
    {
      "cell_type": "markdown",
      "source": [
        "#### Using custom dataset"
      ],
      "metadata": {
        "id": "UlRUe8k8uIdB"
      }
    },
    {
      "cell_type": "code",
      "source": [
        "pdf_reader = PyPDFLoader(\"/content/RAGPaper.pdf\")\n",
        "documents = pdf_reader.load()"
      ],
      "metadata": {
        "id": "g8nHeZEJeggf"
      },
      "execution_count": null,
      "outputs": []
    },
    {
      "cell_type": "markdown",
      "source": [
        "#### RecursiveCharacterTextSplitter is a text splitter that splits the text into chunks."
      ],
      "metadata": {
        "id": "z7QKhy2KupKI"
      }
    },
    {
      "cell_type": "code",
      "source": [
        "text_splitter = RecursiveCharacterTextSplitter(chunk_size = 1000, chunk_overlap=200)\n",
        "chunks = text_splitter.split_documents(documents)"
      ],
      "metadata": {
        "id": "ySy7vwy5uiWp"
      },
      "execution_count": null,
      "outputs": []
    },
    {
      "cell_type": "code",
      "source": [
        "from langchain.embeddings.openai import OpenAIEmbeddings\n",
        "from langchain.vectorstores import FAISS\n",
        "\n",
        "# Create embedding\n",
        "embeddings = OpenAIEmbeddings(api_key=OPENAI_API_KEY)\n",
        "db = FAISS.from_documents(documents=chunks, embedding=embeddings)"
      ],
      "metadata": {
        "id": "wZzOMnlyvKbA"
      },
      "execution_count": null,
      "outputs": []
    },
    {
      "cell_type": "code",
      "source": [
        "from langchain.chains import ConversationalRetrievalChain\n",
        "from langchain.prompts import PromptTemplate"
      ],
      "metadata": {
        "id": "eT9r1099xxoV"
      },
      "execution_count": 3,
      "outputs": []
    },
    {
      "cell_type": "code",
      "source": [
        "from langchain.chains import ConversationalRetrievalChain\n",
        "from langchain.prompts import PromptTemplate\n",
        "\n",
        "CONDENSE_QUESTION_PROMPT = PromptTemplate.from_template(\"\"\"Given the following conversation and a follow up question, rephrase the follow up question to be a standalone question\n",
        "\n",
        "Chat History:\n",
        "{chat_history}\n",
        "Follow up input : {question}\n",
        "standalone questions : \"\"\")\n",
        "\n",
        "qa = ConversationalRetrievalChain.from_llm(llm=llm, retriever=db.as_retriever(),\n",
        "                                           condense_question_prompt=CONDENSE_QUESTION_PROMPT,\n",
        "                                           return_source_documents=True, verbose=False)"
      ],
      "metadata": {
        "id": "e6w7zaM3ucAG"
      },
      "execution_count": null,
      "outputs": []
    },
    {
      "cell_type": "markdown",
      "source": [
        "#### Ask a query"
      ],
      "metadata": {
        "id": "Beb-OyJqy6Hz"
      }
    },
    {
      "cell_type": "code",
      "source": [
        "chat_history = []\n",
        "query = \"\"\"What is this paper all about, explain in just 3-4 lines\"\"\"\n",
        "result = qa.({\"question\":query, \"chat_history\":chat_history})\n",
        "print(result[\"answer\"])"
      ],
      "metadata": {
        "id": "J-5ykl-nyg-a"
      },
      "execution_count": null,
      "outputs": []
    }
  ]
}