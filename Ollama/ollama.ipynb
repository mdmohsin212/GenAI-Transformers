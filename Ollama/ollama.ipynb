{
 "cells": [
  {
   "cell_type": "code",
   "execution_count": 1,
   "id": "82972b32",
   "metadata": {},
   "outputs": [],
   "source": [
    "# Import Ollama\n",
    "from langchain_community.llms import Ollama"
   ]
  },
  {
   "cell_type": "code",
   "execution_count": 2,
   "id": "936caccc",
   "metadata": {},
   "outputs": [
    {
     "name": "stderr",
     "output_type": "stream",
     "text": [
      "C:\\Users\\User\\AppData\\Local\\Temp\\ipykernel_16344\\542868936.py:1: LangChainDeprecationWarning: The class `Ollama` was deprecated in LangChain 0.3.1 and will be removed in 1.0.0. An updated version of the class exists in the :class:`~langchain-ollama package and should be used instead. To use it run `pip install -U :class:`~langchain-ollama` and import as `from :class:`~langchain_ollama import OllamaLLM``.\n",
      "  model = Ollama(model='tinyllama')\n"
     ]
    }
   ],
   "source": [
    "model = Ollama(model='tinyllama')"
   ]
  },
  {
   "cell_type": "code",
   "execution_count": 7,
   "id": "d03ce575",
   "metadata": {},
   "outputs": [
    {
     "name": "stdout",
     "output_type": "stream",
     "text": [
      "generations=[[GenerationChunk(text=\"The capital of Ireland, which is also the country's largest city and administrative center, is Dublin. The current capital is Brussels in Belgium.\", generation_info={'model': 'tinyllama', 'created_at': '2025-08-29T04:03:03.7895967Z', 'response': '', 'done': True, 'done_reason': 'stop', 'context': [529, 29989, 5205, 29989, 29958, 13, 3492, 526, 263, 8444, 319, 29902, 20255, 29889, 2, 29871, 13, 29966, 29989, 1792, 29989, 29958, 13, 5618, 338, 7483, 310, 12126, 2, 29871, 13, 29966, 29989, 465, 22137, 29989, 29958, 13, 1576, 7483, 310, 12126, 29892, 607, 338, 884, 278, 4234, 29915, 29879, 10150, 4272, 322, 19185, 4818, 29892, 338, 24533, 29889, 450, 1857, 7483, 338, 8135, 893, 1379, 297, 9923, 1974, 29889], 'total_duration': 1246714900, 'load_duration': 18776200, 'prompt_eval_count': 39, 'prompt_eval_duration': 36029500, 'eval_count': 33, 'eval_duration': 1191388300})]] llm_output=None run=[RunInfo(run_id=UUID('f556d2f7-6d2c-4271-9aaa-0d48d70a79d4'))] type='LLMResult'\n"
     ]
    }
   ],
   "source": [
    "response = model.generate(['What is capital of Ireland'])\n",
    "\n",
    "print(response)"
   ]
  },
  {
   "cell_type": "code",
   "execution_count": 9,
   "id": "74d38bf6",
   "metadata": {},
   "outputs": [
    {
     "data": {
      "text/plain": [
       "\"The capital of Ireland, which is also the country's largest city and administrative center, is Dublin. The current capital is Brussels in Belgium.\""
      ]
     },
     "execution_count": 9,
     "metadata": {},
     "output_type": "execute_result"
    }
   ],
   "source": [
    "response.generations[0][0].text"
   ]
  }
 ],
 "metadata": {
  "kernelspec": {
   "display_name": "Python 3",
   "language": "python",
   "name": "python3"
  },
  "language_info": {
   "codemirror_mode": {
    "name": "ipython",
    "version": 3
   },
   "file_extension": ".py",
   "mimetype": "text/x-python",
   "name": "python",
   "nbconvert_exporter": "python",
   "pygments_lexer": "ipython3",
   "version": "3.12.6"
  }
 },
 "nbformat": 4,
 "nbformat_minor": 5
}
